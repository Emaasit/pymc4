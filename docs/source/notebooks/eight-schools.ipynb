{
 "cells": [
  {
   "cell_type": "markdown",
   "metadata": {},
   "source": [
    "# Non-Centered Eight Schools Model with PyMC4"
   ]
  },
  {
   "cell_type": "code",
   "execution_count": 2,
   "metadata": {
    "ExecuteTime": {
     "end_time": "2018-08-26T13:16:06.750898Z",
     "start_time": "2018-08-26T13:16:06.168335Z"
    }
   },
   "outputs": [],
   "source": [
    "# %matplotlib inline\n",
    "from warnings import filterwarnings\n",
    "filterwarnings(\"ignore\")\n",
    "\n",
    "import numpy as np\n",
    "import pymc4 as pm\n",
    "import arviz as az\n",
    "import tensorflow as tf # For Random Variable operation\n",
    "from tensorflow_probability import edward2 as ed # For defining random variables"
   ]
  },
  {
   "cell_type": "markdown",
   "metadata": {},
   "source": [
    "## Prepare the data"
   ]
  },
  {
   "cell_type": "code",
   "execution_count": 3,
   "metadata": {
    "ExecuteTime": {
     "end_time": "2018-08-26T13:16:09.912228Z",
     "start_time": "2018-08-26T13:16:09.909079Z"
    }
   },
   "outputs": [],
   "source": [
    "J = 8 # No. of schools\n",
    "y = np.array([28.,  8., -3.,  7., -1.,  1., 18., 12.])\n",
    "sigma = np.array([15., 10., 16., 11.,  9., 11., 10., 18.])"
   ]
  },
  {
   "cell_type": "markdown",
   "metadata": {
    "ExecuteTime": {
     "end_time": "2018-08-26T01:32:38.410158Z",
     "start_time": "2018-08-26T01:32:38.407582Z"
    }
   },
   "source": [
    "## Initialize the model"
   ]
  },
  {
   "cell_type": "code",
   "execution_count": 4,
   "metadata": {
    "ExecuteTime": {
     "end_time": "2018-08-26T13:16:13.186440Z",
     "start_time": "2018-08-26T13:16:13.181654Z"
    }
   },
   "outputs": [],
   "source": [
    "model = pm.Model(num_schools=J, y=y, sigma=sigma)"
   ]
  },
  {
   "cell_type": "markdown",
   "metadata": {},
   "source": [
    "## Define the model"
   ]
  },
  {
   "cell_type": "code",
   "execution_count": 5,
   "metadata": {
    "ExecuteTime": {
     "end_time": "2018-08-26T13:16:15.879498Z",
     "start_time": "2018-08-26T13:16:15.794794Z"
    }
   },
   "outputs": [],
   "source": [
    "@model.define\n",
    "def eight_schools(config):\n",
    "    mean = ed.Normal(name=\"mean\", loc=0., scale=5.)\n",
    "    log_tau = ed.Normal(name=\"log_tau\", loc=5., scale=1.)\n",
    "    theta_prime = ed.Normal(name=\"theta_prime\",\n",
    "                           loc=tf.zeros(config.num_schools),\n",
    "                           scale=tf.zeros(config.num_schools))\n",
    "    \n",
    "    theta = mean + tf.exp(log_tau) * theta_prime\n",
    "    \n",
    "    y = ed.Normal(name=\"y\", loc=theta, scale=np.float32(config.sigma))"
   ]
  },
  {
   "cell_type": "code",
   "execution_count": 6,
   "metadata": {
    "ExecuteTime": {
     "end_time": "2018-08-26T13:16:17.837136Z",
     "start_time": "2018-08-26T13:16:17.832004Z"
    }
   },
   "outputs": [
    {
     "data": {
      "text/plain": [
       "<pymc4.model.base.Model at 0x12bc86a20>"
      ]
     },
     "execution_count": 6,
     "metadata": {},
     "output_type": "execute_result"
    }
   ],
   "source": [
    "model.observe(y=y)"
   ]
  },
  {
   "cell_type": "markdown",
   "metadata": {},
   "source": [
    "## Perform Inference"
   ]
  },
  {
   "cell_type": "code",
   "execution_count": 7,
   "metadata": {
    "ExecuteTime": {
     "end_time": "2018-08-26T13:16:31.553001Z",
     "start_time": "2018-08-26T13:16:24.013514Z"
    }
   },
   "outputs": [
    {
     "name": "stdout",
     "output_type": "stream",
     "text": [
      "Acceptance rate: 0.0\n"
     ]
    }
   ],
   "source": [
    "trace = pm.sample(model=model)"
   ]
  },
  {
   "cell_type": "markdown",
   "metadata": {
    "ExecuteTime": {
     "end_time": "2018-08-26T12:59:18.957499Z",
     "start_time": "2018-08-26T12:59:18.953334Z"
    }
   },
   "source": [
    "## Diagnose Convergence"
   ]
  },
  {
   "cell_type": "code",
   "execution_count": 13,
   "metadata": {
    "ExecuteTime": {
     "end_time": "2018-08-26T14:04:20.055055Z",
     "start_time": "2018-08-26T14:04:20.041129Z"
    }
   },
   "outputs": [
    {
     "ename": "AttributeError",
     "evalue": "module 'arviz' has no attribute 'convert_to_xarray'",
     "output_type": "error",
     "traceback": [
      "\u001b[0;31m---------------------------------------------------------------------------\u001b[0m",
      "\u001b[0;31mAttributeError\u001b[0m                            Traceback (most recent call last)",
      "\u001b[0;32m<ipython-input-13-8262c496cf71>\u001b[0m in \u001b[0;36m<module>\u001b[0;34m()\u001b[0m\n\u001b[0;32m----> 1\u001b[0;31m \u001b[0mposterior_data\u001b[0m \u001b[0;34m=\u001b[0m \u001b[0maz\u001b[0m\u001b[0;34m.\u001b[0m\u001b[0mconvert_to_xarray\u001b[0m\u001b[0;34m(\u001b[0m\u001b[0mtrace\u001b[0m\u001b[0;34m=\u001b[0m\u001b[0mtrace\u001b[0m\u001b[0;34m)\u001b[0m\u001b[0;34m\u001b[0m\u001b[0m\n\u001b[0m",
      "\u001b[0;31mAttributeError\u001b[0m: module 'arviz' has no attribute 'convert_to_xarray'"
     ]
    }
   ],
   "source": [
    "posterior_data = az.convert_to_xarray(trace=trace)"
   ]
  },
  {
   "cell_type": "code",
   "execution_count": null,
   "metadata": {
    "ExecuteTime": {
     "end_time": "2018-08-26T13:58:31.680454Z",
     "start_time": "2018-08-26T13:58:31.666283Z"
    }
   },
   "outputs": [],
   "source": [
    "az.traceplot(data=posterior_data)"
   ]
  },
  {
   "cell_type": "markdown",
   "metadata": {},
   "source": [
    "## Criticize Results"
   ]
  },
  {
   "cell_type": "code",
   "execution_count": null,
   "metadata": {},
   "outputs": [],
   "source": [
    "az.summary(posterior_data)"
   ]
  }
 ],
 "metadata": {
  "kernelspec": {
   "display_name": "Python [conda env:pymc4]",
   "language": "python",
   "name": "conda-env-pymc4-py"
  },
  "language_info": {
   "codemirror_mode": {
    "name": "ipython",
    "version": 3
   },
   "file_extension": ".py",
   "mimetype": "text/x-python",
   "name": "python",
   "nbconvert_exporter": "python",
   "pygments_lexer": "ipython3",
   "version": "3.6.6"
  },
  "toc": {
   "base_numbering": 1,
   "nav_menu": {},
   "number_sections": true,
   "sideBar": true,
   "skip_h1_title": false,
   "title_cell": "Table of Contents",
   "title_sidebar": "Contents",
   "toc_cell": false,
   "toc_position": {},
   "toc_section_display": true,
   "toc_window_display": false
  }
 },
 "nbformat": 4,
 "nbformat_minor": 2
}
